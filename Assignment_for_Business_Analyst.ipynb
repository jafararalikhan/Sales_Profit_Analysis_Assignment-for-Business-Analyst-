{
  "nbformat": 4,
  "nbformat_minor": 0,
  "metadata": {
    "colab": {
      "provenance": [],
      "toc_visible": true,
      "authorship_tag": "ABX9TyNnlMLZXzMEeiuXONjn7CSu",
      "include_colab_link": true
    },
    "kernelspec": {
      "name": "python3",
      "display_name": "Python 3"
    },
    "language_info": {
      "name": "python"
    }
  },
  "cells": [
    {
      "cell_type": "markdown",
      "metadata": {
        "id": "view-in-github",
        "colab_type": "text"
      },
      "source": [
        "<a href=\"https://colab.research.google.com/github/jafararalikhan/Sales_Profit_Analysis_Assignment-for-Business-Analyst-/blob/main/Assignment_for_Business_Analyst.ipynb\" target=\"_parent\"><img src=\"https://colab.research.google.com/assets/colab-badge.svg\" alt=\"Open In Colab\"/></a>"
      ]
    },
    {
      "cell_type": "markdown",
      "source": [
        "# **Q.1 Part: 1**"
      ],
      "metadata": {
        "id": "2h7JX_zWOdjN"
      }
    },
    {
      "cell_type": "markdown",
      "source": [
        "# Importing the Data"
      ],
      "metadata": {
        "id": "evjI9xzOuhui"
      }
    },
    {
      "cell_type": "code",
      "execution_count": null,
      "metadata": {
        "id": "6KB-rMmmxxRE"
      },
      "outputs": [],
      "source": [
        "import pandas as pd\n",
        "import seaborn as sns\n",
        "import matplotlib.pyplot as plt"
      ]
    },
    {
      "cell_type": "code",
      "source": [
        "# Loading the Dataset\n",
        "\n",
        "orders = pd.read_csv('/content/8F1515F8.csv')\n",
        "orders_list = pd.read_csv('/content/F0FB917E.csv')\n",
        "Target_sales = pd.read_csv('/content/53833962.csv')"
      ],
      "metadata": {
        "id": "29F0TsJHnB_V"
      },
      "execution_count": null,
      "outputs": []
    },
    {
      "cell_type": "code",
      "source": [
        "#Print 5 row Orders\n",
        "print(orders.head())"
      ],
      "metadata": {
        "colab": {
          "base_uri": "https://localhost:8080/"
        },
        "id": "LXI-uGPgqpPb",
        "outputId": "a56b0eee-abee-4ee6-b9e3-939d35883a91"
      },
      "execution_count": null,
      "outputs": [
        {
          "output_type": "stream",
          "name": "stdout",
          "text": [
            "  Order ID  Order Date CustomerName           State       City\n",
            "0  B-25601  01-04-2018       Bharat         Gujarat  Ahmedabad\n",
            "1  B-25602  01-04-2018        Pearl     Maharashtra       Pune\n",
            "2  B-25603  03-04-2018        Jahan  Madhya Pradesh     Bhopal\n",
            "3  B-25604  03-04-2018       Divsha       Rajasthan     Jaipur\n",
            "4  B-25605  05-04-2018      Kasheen     West Bengal    Kolkata\n"
          ]
        }
      ]
    },
    {
      "cell_type": "code",
      "source": [
        "# Order_List\n",
        "print(orders_list.head())"
      ],
      "metadata": {
        "colab": {
          "base_uri": "https://localhost:8080/"
        },
        "id": "CPiWo5Twq_mr",
        "outputId": "71da723b-27aa-4c71-a6d0-cff93ed311d2"
      },
      "execution_count": null,
      "outputs": [
        {
          "output_type": "stream",
          "name": "stdout",
          "text": [
            "  Order ID  Amount  Profit  Quantity     Category      Sub-Category\n",
            "0  B-25601  1275.0 -1148.0         7    Furniture         Bookcases\n",
            "1  B-25601    66.0   -12.0         5     Clothing             Stole\n",
            "2  B-25601     8.0    -2.0         3     Clothing       Hankerchief\n",
            "3  B-25601    80.0   -56.0         4  Electronics  Electronic Games\n",
            "4  B-25602   168.0  -111.0         2  Electronics            Phones\n"
          ]
        }
      ]
    },
    {
      "cell_type": "markdown",
      "source": [
        "# Merging the Data"
      ],
      "metadata": {
        "id": "wQfXBb1Wuynj"
      }
    },
    {
      "cell_type": "code",
      "source": [
        "# Merge Dataset\n",
        "merge_data = pd.merge(orders_list,orders, on='Order ID', how='inner')\n",
        "print(merge_data.head())"
      ],
      "metadata": {
        "colab": {
          "base_uri": "https://localhost:8080/"
        },
        "id": "Mkh_hSlqsSTL",
        "outputId": "9aef8344-2175-45f7-9bbd-a7861166e7fd"
      },
      "execution_count": null,
      "outputs": [
        {
          "output_type": "stream",
          "name": "stdout",
          "text": [
            "  Order ID  Amount  Profit  Quantity     Category      Sub-Category  \\\n",
            "0  B-25601  1275.0 -1148.0         7    Furniture         Bookcases   \n",
            "1  B-25601    66.0   -12.0         5     Clothing             Stole   \n",
            "2  B-25601     8.0    -2.0         3     Clothing       Hankerchief   \n",
            "3  B-25601    80.0   -56.0         4  Electronics  Electronic Games   \n",
            "4  B-25602   168.0  -111.0         2  Electronics            Phones   \n",
            "\n",
            "   Order Date CustomerName        State       City  \n",
            "0  01-04-2018       Bharat      Gujarat  Ahmedabad  \n",
            "1  01-04-2018       Bharat      Gujarat  Ahmedabad  \n",
            "2  01-04-2018       Bharat      Gujarat  Ahmedabad  \n",
            "3  01-04-2018       Bharat      Gujarat  Ahmedabad  \n",
            "4  01-04-2018        Pearl  Maharashtra       Pune  \n"
          ]
        }
      ]
    },
    {
      "cell_type": "code",
      "source": [
        "# Check null Values\n",
        "merge_data.isnull().sum()"
      ],
      "metadata": {
        "colab": {
          "base_uri": "https://localhost:8080/",
          "height": 398
        },
        "id": "slQBkZgztrkq",
        "outputId": "41ee601d-54c2-42d5-d3b4-625338110604"
      },
      "execution_count": null,
      "outputs": [
        {
          "output_type": "execute_result",
          "data": {
            "text/plain": [
              "Order ID        0\n",
              "Amount          0\n",
              "Profit          0\n",
              "Quantity        0\n",
              "Category        0\n",
              "Sub-Category    0\n",
              "Order Date      0\n",
              "CustomerName    0\n",
              "State           0\n",
              "City            0\n",
              "dtype: int64"
            ],
            "text/html": [
              "<div>\n",
              "<style scoped>\n",
              "    .dataframe tbody tr th:only-of-type {\n",
              "        vertical-align: middle;\n",
              "    }\n",
              "\n",
              "    .dataframe tbody tr th {\n",
              "        vertical-align: top;\n",
              "    }\n",
              "\n",
              "    .dataframe thead th {\n",
              "        text-align: right;\n",
              "    }\n",
              "</style>\n",
              "<table border=\"1\" class=\"dataframe\">\n",
              "  <thead>\n",
              "    <tr style=\"text-align: right;\">\n",
              "      <th></th>\n",
              "      <th>0</th>\n",
              "    </tr>\n",
              "  </thead>\n",
              "  <tbody>\n",
              "    <tr>\n",
              "      <th>Order ID</th>\n",
              "      <td>0</td>\n",
              "    </tr>\n",
              "    <tr>\n",
              "      <th>Amount</th>\n",
              "      <td>0</td>\n",
              "    </tr>\n",
              "    <tr>\n",
              "      <th>Profit</th>\n",
              "      <td>0</td>\n",
              "    </tr>\n",
              "    <tr>\n",
              "      <th>Quantity</th>\n",
              "      <td>0</td>\n",
              "    </tr>\n",
              "    <tr>\n",
              "      <th>Category</th>\n",
              "      <td>0</td>\n",
              "    </tr>\n",
              "    <tr>\n",
              "      <th>Sub-Category</th>\n",
              "      <td>0</td>\n",
              "    </tr>\n",
              "    <tr>\n",
              "      <th>Order Date</th>\n",
              "      <td>0</td>\n",
              "    </tr>\n",
              "    <tr>\n",
              "      <th>CustomerName</th>\n",
              "      <td>0</td>\n",
              "    </tr>\n",
              "    <tr>\n",
              "      <th>State</th>\n",
              "      <td>0</td>\n",
              "    </tr>\n",
              "    <tr>\n",
              "      <th>City</th>\n",
              "      <td>0</td>\n",
              "    </tr>\n",
              "  </tbody>\n",
              "</table>\n",
              "</div><br><label><b>dtype:</b> int64</label>"
            ]
          },
          "metadata": {},
          "execution_count": 73
        }
      ]
    },
    {
      "cell_type": "markdown",
      "source": [
        "# Total Sale by Category"
      ],
      "metadata": {
        "id": "OlqdtmAQuUij"
      }
    },
    {
      "cell_type": "code",
      "source": [
        "category_sales = merge_data.groupby('Category')['Amount'].sum().reset_index().sort_values(by='Amount', ascending=False)\n",
        "\n",
        "print('\\nTotal Sales by Category')\n",
        "print(category_sales)"
      ],
      "metadata": {
        "colab": {
          "base_uri": "https://localhost:8080/"
        },
        "id": "BSAi85mXud3x",
        "outputId": "c79bd794-c64a-4fc4-9577-86b8105e0ec8"
      },
      "execution_count": null,
      "outputs": [
        {
          "output_type": "stream",
          "name": "stdout",
          "text": [
            "\n",
            "Total Sales by Category\n",
            "      Category    Amount\n",
            "1  Electronics  165267.0\n",
            "0     Clothing  139054.0\n",
            "2    Furniture  127181.0\n"
          ]
        }
      ]
    },
    {
      "cell_type": "markdown",
      "source": [
        "# Average Profit per Order & Profit Margin\n"
      ],
      "metadata": {
        "id": "sVg4S_p3w4FR"
      }
    },
    {
      "cell_type": "code",
      "source": [
        "category_profit = merge_data.groupby('Category').agg({\n",
        "    'Profit' : 'sum',\n",
        "    'Amount' : 'sum',\n",
        "    'Order ID' : 'count'\n",
        "}).reset_index()\n",
        "\n",
        "category_profit[\"Average Profit per Order\"] = category_profit[\"Profit\"]/category_profit[\"Order ID\"]\n",
        "category_profit[\"Profit Margin (%)\"] = (category_profit[\"Profit\"]/category_profit[\"Amount\"]) *100\n",
        "\n",
        "\n",
        "print(\"\\n Profit Analysis by Category\")\n",
        "print(category_profit.sort_values(by=\"Profit Margin (%)\", ascending=False))"
      ],
      "metadata": {
        "colab": {
          "base_uri": "https://localhost:8080/"
        },
        "id": "l9HHOzqMxKJw",
        "outputId": "f0d80dc6-f3bd-4bf7-f5c8-eaf23df5b56c"
      },
      "execution_count": null,
      "outputs": [
        {
          "output_type": "stream",
          "name": "stdout",
          "text": [
            "\n",
            " Profit Analysis by Category\n",
            "      Category   Profit    Amount  Order ID  Average Profit per Order  \\\n",
            "0     Clothing  11163.0  139054.0       949                 11.762908   \n",
            "1  Electronics  10494.0  165267.0       308                 34.071429   \n",
            "2    Furniture   2298.0  127181.0       243                  9.456790   \n",
            "\n",
            "   Profit Margin (%)  \n",
            "0           8.027817  \n",
            "1           6.349725  \n",
            "2           1.806874  \n"
          ]
        }
      ]
    },
    {
      "cell_type": "markdown",
      "source": [
        "# Combine Sales & Profit Insights"
      ],
      "metadata": {
        "id": "OKB1M7Uy4LLm"
      }
    },
    {
      "cell_type": "code",
      "source": [
        "final_category_analysis = pd.merge(category_sales, category_profit, on=\"Category\")\n",
        "print(\"\\nFinal_combin_analysis\")\n",
        "print(final_category_analysis)"
      ],
      "metadata": {
        "colab": {
          "base_uri": "https://localhost:8080/"
        },
        "id": "wwLRoWMH4Wb9",
        "outputId": "f0002592-7316-42f5-89a3-1c8f42683abb"
      },
      "execution_count": null,
      "outputs": [
        {
          "output_type": "stream",
          "name": "stdout",
          "text": [
            "\n",
            "Final_combin_analysis\n",
            "      Category  Amount_x   Profit  Amount_y  Order ID  \\\n",
            "0  Electronics  165267.0  10494.0  165267.0       308   \n",
            "1     Clothing  139054.0  11163.0  139054.0       949   \n",
            "2    Furniture  127181.0   2298.0  127181.0       243   \n",
            "\n",
            "   Average Profit per Order  Profit Margin (%)  \n",
            "0                 34.071429           6.349725  \n",
            "1                 11.762908           8.027817  \n",
            "2                  9.456790           1.806874  \n"
          ]
        }
      ]
    },
    {
      "cell_type": "markdown",
      "source": [
        "# Category Sales Visualization"
      ],
      "metadata": {
        "id": "XrHduCEK64S1"
      }
    },
    {
      "cell_type": "code",
      "source": [
        "# Seting plot style\n",
        "sns.set(style=\"whitegrid\")\n",
        "plt.rcParams['figure.figsize'] = (10,6)"
      ],
      "metadata": {
        "id": "4MRrl0mg7PaU"
      },
      "execution_count": null,
      "outputs": []
    },
    {
      "cell_type": "markdown",
      "source": [
        "**Total Sales by Category**"
      ],
      "metadata": {
        "id": "uRyfZ0T9_ejZ"
      }
    },
    {
      "cell_type": "code",
      "source": [
        "sns.barplot(data=category_sales, x=\"Amount\", y=\"Category\", hue=\"Category\", palette=\"Blues_d\")\n",
        "plt.title(\"Total Sales by Category\")\n",
        "plt.xlabel(\"Total Sales (Amount)\")\n",
        "plt.ylabel(\"Category\")\n",
        "plt.show()"
      ],
      "metadata": {
        "colab": {
          "base_uri": "https://localhost:8080/",
          "height": 399
        },
        "id": "gzvqWkuA_kzZ",
        "outputId": "3a630c4a-918f-4c1f-87bd-60cd4fd7b640"
      },
      "execution_count": null,
      "outputs": [
        {
          "output_type": "display_data",
          "data": {
            "text/plain": [
              "<Figure size 1000x600 with 1 Axes>"
            ],
            "image/png": "[encoded data removed]"
          },
          "metadata": {}
        }
      ]
    },
    {
      "cell_type": "markdown",
      "source": [
        "**Profit Margin (%) by Category**"
      ],
      "metadata": {
        "id": "KTgOSUCVEP6v"
      }
    },
    {
      "cell_type": "code",
      "source": [
        "sns.barplot(data=category_profit.sort_values(by=\"Profit Margin (%)\", ascending=False),\n",
        "            x=\"Profit Margin (%)\", y=\"Category\", hue=\"Category\", palette=\"Greens_d\")\n",
        "plt.title(\"Profit Margin by Category\")\n",
        "plt.xlabel(\"Profit Margin (%)\")\n",
        "plt.ylabel(\"Category\")\n",
        "plt.show()"
      ],
      "metadata": {
        "colab": {
          "base_uri": "https://localhost:8080/",
          "height": 399
        },
        "id": "AF526U1BEbHn",
        "outputId": "e37fd7d9-82dd-4328-a167-5012a3275c5e"
      },
      "execution_count": null,
      "outputs": [
        {
          "output_type": "display_data",
          "data": {
            "text/plain": [
              "<Figure size 1000x600 with 1 Axes>"
            ],
            "image/png": "[encoded data removed]"
          },
          "metadata": {}
        }
      ]
    },
    {
      "cell_type": "markdown",
      "source": [
        "**Average Profit per Order by Category**"
      ],
      "metadata": {
        "id": "AWc7wQAxKLvN"
      }
    },
    {
      "cell_type": "code",
      "source": [
        "sns.barplot(data=category_profit.sort_values(by=\"Average Profit per Order\", ascending=False),\n",
        "            x=\"Average Profit per Order\", y=\"Category\", hue=\"Category\", palette=\"Purples_d\")\n",
        "plt.title(\"Average Profit per Order by Category\")\n",
        "plt.xlabel(\"Average Profit per Order\")\n",
        "plt.ylabel(\"Category\")\n",
        "plt.show()"
      ],
      "metadata": {
        "colab": {
          "base_uri": "https://localhost:8080/",
          "height": 399
        },
        "id": "Q3xXIBcZKbFc",
        "outputId": "6bf34b66-aeb6-4b62-e8d2-0e42f8e63141"
      },
      "execution_count": null,
      "outputs": [
        {
          "output_type": "display_data",
          "data": {
            "text/plain": [
              "<Figure size 1000x600 with 1 Axes>"
            ],
            "image/png": "[encoded data removed]"
          },
          "metadata": {}
        }
      ]
    },
    {
      "cell_type": "markdown",
      "source": [
        "### 📊 Category-Level Sales & Profitability Insights\n",
        "\n",
        "* **Electronics** made the highest sales overall — ₹1,65,267. Even though the profit margin was around **6.35%**, the **average profit per order was ₹34**, which shows that it's profitable even with fewer orders. It's a strong category in terms of both value and profit per sale.\n",
        "\n",
        "* **Clothing** came second with ₹1,39,054 in sales but had the **highest profit margin** at **8.03%**. The **average profit per order was ₹11.76**, which means this category works well when you have **more volume**. It's a good performer and can be scaled easily.\n",
        "\n",
        "* **Furniture** was the lowest in sales (₹1,27,181) and also had the **lowest profit margin of 1.81%**. Each order gave only **₹9.45** profit on average. That shows this category isn’t doing great — probably due to **high costs or low pricing**. We need to look into how to improve this or whether it's worth focusing on.\n",
        "\n",
        "---\n",
        "\n",
        "### 💡 **My Suggestions:**\n",
        "\n",
        "* Clothing is doing well — we can run more offers or bundles to increase volume even more.\n",
        "* Electronics has solid profits per order — we can try to sell more accessories or premium items here.\n",
        "* Furniture needs improvement — maybe in cost control, delivery, or pricing strategy.\n"
      ],
      "metadata": {
        "id": "7TfkEorsN41O"
      }
    },
    {
      "cell_type": "markdown",
      "source": [
        "# **Q.1 Part:2**"
      ],
      "metadata": {
        "id": "Me48RkAwOuN0"
      }
    },
    {
      "cell_type": "markdown",
      "source": [
        "# Inspect the Sales Target Data"
      ],
      "metadata": {
        "id": "hy0Aj9ZVaIkh"
      }
    },
    {
      "cell_type": "code",
      "source": [
        "# Print 5 row Sales Target\n",
        "print(Target_sales)"
      ],
      "metadata": {
        "colab": {
          "base_uri": "https://localhost:8080/"
        },
        "id": "e1zuUdQaO036",
        "outputId": "87ef625f-39b9-4b67-f74d-817189a03963"
      },
      "execution_count": null,
      "outputs": [
        {
          "output_type": "stream",
          "name": "stdout",
          "text": [
            "   Month of Order Date     Category   Target\n",
            "0               Apr-18    Furniture  10400.0\n",
            "1               May-18    Furniture  10500.0\n",
            "2               Jun-18    Furniture  10600.0\n",
            "3               Jul-18    Furniture  10800.0\n",
            "4               Aug-18    Furniture  10900.0\n",
            "5               Sep-18    Furniture  11000.0\n",
            "6               Oct-18    Furniture  11100.0\n",
            "7               Nov-18    Furniture  11300.0\n",
            "8               Dec-18    Furniture  11400.0\n",
            "9               Jan-19    Furniture  11500.0\n",
            "10              Feb-19    Furniture  11600.0\n",
            "11              Mar-19    Furniture  11800.0\n",
            "12              Apr-18     Clothing  12000.0\n",
            "13              May-18     Clothing  12000.0\n",
            "14              Jun-18     Clothing  12000.0\n",
            "15              Jul-18     Clothing  14000.0\n",
            "16              Aug-18     Clothing  14000.0\n",
            "17              Sep-18     Clothing  14000.0\n",
            "18              Oct-18     Clothing  16000.0\n",
            "19              Nov-18     Clothing  16000.0\n",
            "20              Dec-18     Clothing  16000.0\n",
            "21              Jan-19     Clothing  16000.0\n",
            "22              Feb-19     Clothing  16000.0\n",
            "23              Mar-19     Clothing  16000.0\n",
            "24              Apr-18  Electronics   9000.0\n",
            "25              May-18  Electronics   9000.0\n",
            "26              Jun-18  Electronics   9000.0\n",
            "27              Jul-18  Electronics   9000.0\n",
            "28              Aug-18  Electronics   9000.0\n",
            "29              Sep-18  Electronics   9000.0\n",
            "30              Oct-18  Electronics   9000.0\n",
            "31              Nov-18  Electronics   9000.0\n",
            "32              Dec-18  Electronics   9000.0\n",
            "33              Jan-19  Electronics  16000.0\n",
            "34              Feb-19  Electronics  16000.0\n",
            "35              Mar-19  Electronics  16000.0\n"
          ]
        }
      ]
    },
    {
      "cell_type": "markdown",
      "source": [
        "# Filter for Furniture Category Only"
      ],
      "metadata": {
        "id": "jd8t1Lp8a8nJ"
      }
    },
    {
      "cell_type": "code",
      "source": [
        "furniture_target = Target_sales[Target_sales['Category']== \"Furniture\"].copy()\n",
        "furniture_target"
      ],
      "metadata": {
        "colab": {
          "base_uri": "https://localhost:8080/",
          "height": 426
        },
        "id": "jdrxZcSSagXJ",
        "outputId": "a0113026-a0cf-4930-c9e9-fd0728d95833"
      },
      "execution_count": null,
      "outputs": [
        {
          "output_type": "execute_result",
          "data": {
            "text/plain": [
              "   Month of Order Date   Category   Target\n",
              "0               Apr-18  Furniture  10400.0\n",
              "1               May-18  Furniture  10500.0\n",
              "2               Jun-18  Furniture  10600.0\n",
              "3               Jul-18  Furniture  10800.0\n",
              "4               Aug-18  Furniture  10900.0\n",
              "5               Sep-18  Furniture  11000.0\n",
              "6               Oct-18  Furniture  11100.0\n",
              "7               Nov-18  Furniture  11300.0\n",
              "8               Dec-18  Furniture  11400.0\n",
              "9               Jan-19  Furniture  11500.0\n",
              "10              Feb-19  Furniture  11600.0\n",
              "11              Mar-19  Furniture  11800.0"
            ],
            "text/html": [
              "\n",
              "  <div id=\"df-65923758-f265-41be-877f-6dfb53a09cca\" class=\"colab-df-container\">\n",
              "    <div>\n",
              "<style scoped>\n",
              "    .dataframe tbody tr th:only-of-type {\n",
              "        vertical-align: middle;\n",
              "    }\n",
              "\n",
              "    .dataframe tbody tr th {\n",
              "        vertical-align: top;\n",
              "    }\n",
              "\n",
              "    .dataframe thead th {\n",
              "        text-align: right;\n",
              "    }\n",
              "</style>\n",
              "<table border=\"1\" class=\"dataframe\">\n",
              "  <thead>\n",
              "    <tr style=\"text-align: right;\">\n",
              "      <th></th>\n",
              "      <th>Month of Order Date</th>\n",
              "      <th>Category</th>\n",
              "      <th>Target</th>\n",
              "    </tr>\n",
              "  </thead>\n",
              "  <tbody>\n",
              "    <tr>\n",
              "      <th>0</th>\n",
              "      <td>Apr-18</td>\n",
              "      <td>Furniture</td>\n",
              "      <td>10400.0</td>\n",
              "    </tr>\n",
              "    <tr>\n",
              "      <th>1</th>\n",
              "      <td>May-18</td>\n",
              "      <td>Furniture</td>\n",
              "      <td>10500.0</td>\n",
              "    </tr>\n",
              "    <tr>\n",
              "      <th>2</th>\n",
              "      <td>Jun-18</td>\n",
              "      <td>Furniture</td>\n",
              "      <td>10600.0</td>\n",
              "    </tr>\n",
              "    <tr>\n",
              "      <th>3</th>\n",
              "      <td>Jul-18</td>\n",
              "      <td>Furniture</td>\n",
              "      <td>10800.0</td>\n",
              "    </tr>\n",
              "    <tr>\n",
              "      <th>4</th>\n",
              "      <td>Aug-18</td>\n",
              "      <td>Furniture</td>\n",
              "      <td>10900.0</td>\n",
              "    </tr>\n",
              "    <tr>\n",
              "      <th>5</th>\n",
              "      <td>Sep-18</td>\n",
              "      <td>Furniture</td>\n",
              "      <td>11000.0</td>\n",
              "    </tr>\n",
              "    <tr>\n",
              "      <th>6</th>\n",
              "      <td>Oct-18</td>\n",
              "      <td>Furniture</td>\n",
              "      <td>11100.0</td>\n",
              "    </tr>\n",
              "    <tr>\n",
              "      <th>7</th>\n",
              "      <td>Nov-18</td>\n",
              "      <td>Furniture</td>\n",
              "      <td>11300.0</td>\n",
              "    </tr>\n",
              "    <tr>\n",
              "      <th>8</th>\n",
              "      <td>Dec-18</td>\n",
              "      <td>Furniture</td>\n",
              "      <td>11400.0</td>\n",
              "    </tr>\n",
              "    <tr>\n",
              "      <th>9</th>\n",
              "      <td>Jan-19</td>\n",
              "      <td>Furniture</td>\n",
              "      <td>11500.0</td>\n",
              "    </tr>\n",
              "    <tr>\n",
              "      <th>10</th>\n",
              "      <td>Feb-19</td>\n",
              "      <td>Furniture</td>\n",
              "      <td>11600.0</td>\n",
              "    </tr>\n",
              "    <tr>\n",
              "      <th>11</th>\n",
              "      <td>Mar-19</td>\n",
              "      <td>Furniture</td>\n",
              "      <td>11800.0</td>\n",
              "    </tr>\n",
              "  </tbody>\n",
              "</table>\n",
              "</div>\n",
              "    <div class=\"colab-df-buttons\">\n",
              "\n",
              "  <div class=\"colab-df-container\">\n",
              "    <button class=\"colab-df-convert\" onclick=\"convertToInteractive('df-65923758-f265-41be-877f-6dfb53a09cca')\"\n",
              "            title=\"Convert this dataframe to an interactive table.\"\n",
              "            style=\"display:none;\">\n",
              "\n",
              "  <svg xmlns=\"http://www.w3.org/2000/svg\" height=\"24px\" viewBox=\"0 -960 960 960\">\n",
              "    <path d=\"M120-120v-720h720v720H120Zm60-500h600v-160H180v160Zm220 220h160v-160H400v160Zm0 220h160v-160H400v160ZM180-400h160v-160H180v160Zm440 0h160v-160H620v160ZM180-180h160v-160H180v160Zm440 0h160v-160H620v160Z\"/>\n",
              "  </svg>\n",
              "    </button>\n",
              "\n",
              "  <style>\n",
              "    .colab-df-container {\n",
              "      display:flex;\n",
              "      gap: 12px;\n",
              "    }\n",
              "\n",
              "    .colab-df-convert {\n",
              "      background-color: #E8F0FE;\n",
              "      border: none;\n",
              "      border-radius: 50%;\n",
              "      cursor: pointer;\n",
              "      display: none;\n",
              "      fill: #1967D2;\n",
              "      height: 32px;\n",
              "      padding: 0 0 0 0;\n",
              "      width: 32px;\n",
              "    }\n",
              "\n",
              "    .colab-df-convert:hover {\n",
              "      background-color: #E2EBFA;\n",
              "      box-shadow: 0px 1px 2px rgba(60, 64, 67, 0.3), 0px 1px 3px 1px rgba(60, 64, 67, 0.15);\n",
              "      fill: #174EA6;\n",
              "    }\n",
              "\n",
              "    .colab-df-buttons div {\n",
              "      margin-bottom: 4px;\n",
              "    }\n",
              "\n",
              "    [theme=dark] .colab-df-convert {\n",
              "      background-color: #3B4455;\n",
              "      fill: #D2E3FC;\n",
              "    }\n",
              "\n",
              "    [theme=dark] .colab-df-convert:hover {\n",
              "      background-color: #434B5C;\n",
              "      box-shadow: 0px 1px 3px 1px rgba(0, 0, 0, 0.15);\n",
              "      filter: drop-shadow(0px 1px 2px rgba(0, 0, 0, 0.3));\n",
              "      fill: #FFFFFF;\n",
              "    }\n",
              "  </style>\n",
              "\n",
              "    <script>\n",
              "      const buttonEl =\n",
              "        document.querySelector('#df-65923758-f265-41be-877f-6dfb53a09cca button.colab-df-convert');\n",
              "      buttonEl.style.display =\n",
              "        google.colab.kernel.accessAllowed ? 'block' : 'none';\n",
              "\n",
              "      async function convertToInteractive(key) {\n",
              "        const element = document.querySelector('#df-65923758-f265-41be-877f-6dfb53a09cca');\n",
              "        const dataTable =\n",
              "          await google.colab.kernel.invokeFunction('convertToInteractive',\n",
              "                                                    [key], {});\n",
              "        if (!dataTable) return;\n",
              "\n",
              "        const docLinkHtml = 'Like what you see? Visit the ' +\n",
              "          '<a target=\"_blank\" href=https://colab.research.google.com/notebooks/data_table.ipynb>data table notebook</a>'\n",
              "          + ' to learn more about interactive tables.';\n",
              "        element.innerHTML = '';\n",
              "        dataTable['output_type'] = 'display_data';\n",
              "        await google.colab.output.renderOutput(dataTable, element);\n",
              "        const docLink = document.createElement('div');\n",
              "        docLink.innerHTML = docLinkHtml;\n",
              "        element.appendChild(docLink);\n",
              "      }\n",
              "    </script>\n",
              "  </div>\n",
              "\n",
              "\n",
              "    <div id=\"df-83e11790-be6b-4ef4-93ef-e548dbb0f57a\">\n",
              "      <button class=\"colab-df-quickchart\" onclick=\"quickchart('df-83e11790-be6b-4ef4-93ef-e548dbb0f57a')\"\n",
              "                title=\"Suggest charts\"\n",
              "                style=\"display:none;\">\n",
              "\n",
              "<svg xmlns=\"http://www.w3.org/2000/svg\" height=\"24px\"viewBox=\"0 0 24 24\"\n",
              "     width=\"24px\">\n",
              "    <g>\n",
              "        <path d=\"M19 3H5c-1.1 0-2 .9-2 2v14c0 1.1.9 2 2 2h14c1.1 0 2-.9 2-2V5c0-1.1-.9-2-2-2zM9 17H7v-7h2v7zm4 0h-2V7h2v10zm4 0h-2v-4h2v4z\"/>\n",
              "    </g>\n",
              "</svg>\n",
              "      </button>\n",
              "\n",
              "<style>\n",
              "  .colab-df-quickchart {\n",
              "      --bg-color: #E8F0FE;\n",
              "      --fill-color: #1967D2;\n",
              "      --hover-bg-color: #E2EBFA;\n",
              "      --hover-fill-color: #174EA6;\n",
              "      --disabled-fill-color: #AAA;\n",
              "      --disabled-bg-color: #DDD;\n",
              "  }\n",
              "\n",
              "  [theme=dark] .colab-df-quickchart {\n",
              "      --bg-color: #3B4455;\n",
              "      --fill-color: #D2E3FC;\n",
              "      --hover-bg-color: #434B5C;\n",
              "      --hover-fill-color: #FFFFFF;\n",
              "      --disabled-bg-color: #3B4455;\n",
              "      --disabled-fill-color: #666;\n",
              "  }\n",
              "\n",
              "  .colab-df-quickchart {\n",
              "    background-color: var(--bg-color);\n",
              "    border: none;\n",
              "    border-radius: 50%;\n",
              "    cursor: pointer;\n",
              "    display: none;\n",
              "    fill: var(--fill-color);\n",
              "    height: 32px;\n",
              "    padding: 0;\n",
              "    width: 32px;\n",
              "  }\n",
              "\n",
              "  .colab-df-quickchart:hover {\n",
              "    background-color: var(--hover-bg-color);\n",
              "    box-shadow: 0 1px 2px rgba(60, 64, 67, 0.3), 0 1px 3px 1px rgba(60, 64, 67, 0.15);\n",
              "    fill: var(--button-hover-fill-color);\n",
              "  }\n",
              "\n",
              "  .colab-df-quickchart-complete:disabled,\n",
              "  .colab-df-quickchart-complete:disabled:hover {\n",
              "    background-color: var(--disabled-bg-color);\n",
              "    fill: var(--disabled-fill-color);\n",
              "    box-shadow: none;\n",
              "  }\n",
              "\n",
              "  .colab-df-spinner {\n",
              "    border: 2px solid var(--fill-color);\n",
              "    border-color: transparent;\n",
              "    border-bottom-color: var(--fill-color);\n",
              "    animation:\n",
              "      spin 1s steps(1) infinite;\n",
              "  }\n",
              "\n",
              "  @keyframes spin {\n",
              "    0% {\n",
              "      border-color: transparent;\n",
              "      border-bottom-color: var(--fill-color);\n",
              "      border-left-color: var(--fill-color);\n",
              "    }\n",
              "    20% {\n",
              "      border-color: transparent;\n",
              "      border-left-color: var(--fill-color);\n",
              "      border-top-color: var(--fill-color);\n",
              "    }\n",
              "    30% {\n",
              "      border-color: transparent;\n",
              "      border-left-color: var(--fill-color);\n",
              "      border-top-color: var(--fill-color);\n",
              "      border-right-color: var(--fill-color);\n",
              "    }\n",
              "    40% {\n",
              "      border-color: transparent;\n",
              "      border-right-color: var(--fill-color);\n",
              "      border-top-color: var(--fill-color);\n",
              "    }\n",
              "    60% {\n",
              "      border-color: transparent;\n",
              "      border-right-color: var(--fill-color);\n",
              "    }\n",
              "    80% {\n",
              "      border-color: transparent;\n",
              "      border-right-color: var(--fill-color);\n",
              "      border-bottom-color: var(--fill-color);\n",
              "    }\n",
              "    90% {\n",
              "      border-color: transparent;\n",
              "      border-bottom-color: var(--fill-color);\n",
              "    }\n",
              "  }\n",
              "</style>\n",
              "\n",
              "      <script>\n",
              "        async function quickchart(key) {\n",
              "          const quickchartButtonEl =\n",
              "            document.querySelector('#' + key + ' button');\n",
              "          quickchartButtonEl.disabled = true;  // To prevent multiple clicks.\n",
              "          quickchartButtonEl.classList.add('colab-df-spinner');\n",
              "          try {\n",
              "            const charts = await google.colab.kernel.invokeFunction(\n",
              "                'suggestCharts', [key], {});\n",
              "          } catch (error) {\n",
              "            console.error('Error during call to suggestCharts:', error);\n",
              "          }\n",
              "          quickchartButtonEl.classList.remove('colab-df-spinner');\n",
              "          quickchartButtonEl.classList.add('colab-df-quickchart-complete');\n",
              "        }\n",
              "        (() => {\n",
              "          let quickchartButtonEl =\n",
              "            document.querySelector('#df-83e11790-be6b-4ef4-93ef-e548dbb0f57a button');\n",
              "          quickchartButtonEl.style.display =\n",
              "            google.colab.kernel.accessAllowed ? 'block' : 'none';\n",
              "        })();\n",
              "      </script>\n",
              "    </div>\n",
              "\n",
              "  <div id=\"id_b1fbb49c-4230-423d-aa85-87689521384a\">\n",
              "    <style>\n",
              "      .colab-df-generate {\n",
              "        background-color: #E8F0FE;\n",
              "        border: none;\n",
              "        border-radius: 50%;\n",
              "        cursor: pointer;\n",
              "        display: none;\n",
              "        fill: #1967D2;\n",
              "        height: 32px;\n",
              "        padding: 0 0 0 0;\n",
              "        width: 32px;\n",
              "      }\n",
              "\n",
              "      .colab-df-generate:hover {\n",
              "        background-color: #E2EBFA;\n",
              "        box-shadow: 0px 1px 2px rgba(60, 64, 67, 0.3), 0px 1px 3px 1px rgba(60, 64, 67, 0.15);\n",
              "        fill: #174EA6;\n",
              "      }\n",
              "\n",
              "      [theme=dark] .colab-df-generate {\n",
              "        background-color: #3B4455;\n",
              "        fill: #D2E3FC;\n",
              "      }\n",
              "\n",
              "      [theme=dark] .colab-df-generate:hover {\n",
              "        background-color: #434B5C;\n",
              "        box-shadow: 0px 1px 3px 1px rgba(0, 0, 0, 0.15);\n",
              "        filter: drop-shadow(0px 1px 2px rgba(0, 0, 0, 0.3));\n",
              "        fill: #FFFFFF;\n",
              "      }\n",
              "    </style>\n",
              "    <button class=\"colab-df-generate\" onclick=\"generateWithVariable('furniture_target')\"\n",
              "            title=\"Generate code using this dataframe.\"\n",
              "            style=\"display:none;\">\n",
              "\n",
              "  <svg xmlns=\"http://www.w3.org/2000/svg\" height=\"24px\"viewBox=\"0 0 24 24\"\n",
              "       width=\"24px\">\n",
              "    <path d=\"M7,19H8.4L18.45,9,17,7.55,7,17.6ZM5,21V16.75L18.45,3.32a2,2,0,0,1,2.83,0l1.4,1.43a1.91,1.91,0,0,1,.58,1.4,1.91,1.91,0,0,1-.58,1.4L9.25,21ZM18.45,9,17,7.55Zm-12,3A5.31,5.31,0,0,0,4.9,8.1,5.31,5.31,0,0,0,1,6.5,5.31,5.31,0,0,0,4.9,4.9,5.31,5.31,0,0,0,6.5,1,5.31,5.31,0,0,0,8.1,4.9,5.31,5.31,0,0,0,12,6.5,5.46,5.46,0,0,0,6.5,12Z\"/>\n",
              "  </svg>\n",
              "    </button>\n",
              "    <script>\n",
              "      (() => {\n",
              "      const buttonEl =\n",
              "        document.querySelector('#id_b1fbb49c-4230-423d-aa85-87689521384a button.colab-df-generate');\n",
              "      buttonEl.style.display =\n",
              "        google.colab.kernel.accessAllowed ? 'block' : 'none';\n",
              "\n",
              "      buttonEl.onclick = () => {\n",
              "        google.colab.notebook.generateWithVariable('furniture_target');\n",
              "      }\n",
              "      })();\n",
              "    </script>\n",
              "  </div>\n",
              "\n",
              "    </div>\n",
              "  </div>\n"
            ],
            "application/vnd.google.colaboratory.intrinsic+json": {
              "type": "dataframe",
              "variable_name": "furniture_target",
              "summary": "{\n  \"name\": \"furniture_target\",\n  \"rows\": 12,\n  \"fields\": [\n    {\n      \"column\": \"Month of Order Date\",\n      \"properties\": {\n        \"dtype\": \"string\",\n        \"num_unique_values\": 12,\n        \"samples\": [\n          \"Feb-19\",\n          \"Jan-19\",\n          \"Apr-18\"\n        ],\n        \"semantic_type\": \"\",\n        \"description\": \"\"\n      }\n    },\n    {\n      \"column\": \"Category\",\n      \"properties\": {\n        \"dtype\": \"category\",\n        \"num_unique_values\": 1,\n        \"samples\": [\n          \"Furniture\"\n        ],\n        \"semantic_type\": \"\",\n        \"description\": \"\"\n      }\n    },\n    {\n      \"column\": \"Target\",\n      \"properties\": {\n        \"dtype\": \"number\",\n        \"std\": 453.5215741084631,\n        \"min\": 10400.0,\n        \"max\": 11800.0,\n        \"num_unique_values\": 12,\n        \"samples\": [\n          11600.0\n        ],\n        \"semantic_type\": \"\",\n        \"description\": \"\"\n      }\n    }\n  ]\n}"
            }
          },
          "metadata": {},
          "execution_count": 82
        }
      ]
    },
    {
      "cell_type": "markdown",
      "source": [
        "**Changing Month column Into Date format**"
      ],
      "metadata": {
        "id": "fKrpfEpsdfRf"
      }
    },
    {
      "cell_type": "code",
      "source": [
        "furniture_target['Month of Order Date'] = pd.to_datetime(furniture_target['Month of Order Date'],format=\"%b-%y\", errors=\"coerce\")\n",
        "\n",
        "# drop row with invalid date if any\n",
        "furniture_target = furniture_target.dropna(subset=\"Month of Order Date\")\n",
        "\n",
        "# sort by datetime\n",
        "furniture_target = furniture_target.sort_values(by='Month of Order Date')\n",
        "\n",
        "# format for displying\n",
        "furniture_target['Month of Order Date'] = furniture_target['Month of Order Date'].dt.strftime(\"%B %Y\")\n"
      ],
      "metadata": {
        "id": "qp9V0gszddYw"
      },
      "execution_count": null,
      "outputs": []
    },
    {
      "cell_type": "markdown",
      "source": [
        "# Month over Month % changes in Target"
      ],
      "metadata": {
        "id": "C7_jXdLzoQWz"
      }
    },
    {
      "cell_type": "code",
      "source": [
        "furniture_target['MoM % Change'] = furniture_target['Target'].pct_change() * 100\n",
        "print(furniture_target[['Month of Order Date','Target','MoM % Change']])"
      ],
      "metadata": {
        "colab": {
          "base_uri": "https://localhost:8080/"
        },
        "id": "Bf7gdOCFoX-8",
        "outputId": "7725088b-13ba-4120-dea9-0f37c54a1c36"
      },
      "execution_count": null,
      "outputs": [
        {
          "output_type": "stream",
          "name": "stdout",
          "text": [
            "   Month of Order Date   Target  MoM % Change\n",
            "0           April 2018  10400.0           NaN\n",
            "1             May 2018  10500.0      0.961538\n",
            "2            June 2018  10600.0      0.952381\n",
            "3            July 2018  10800.0      1.886792\n",
            "4          August 2018  10900.0      0.925926\n",
            "5       September 2018  11000.0      0.917431\n",
            "6         October 2018  11100.0      0.909091\n",
            "7        November 2018  11300.0      1.801802\n",
            "8        December 2018  11400.0      0.884956\n",
            "9         January 2019  11500.0      0.877193\n",
            "10       February 2019  11600.0      0.869565\n",
            "11          March 2019  11800.0      1.724138\n"
          ]
        }
      ]
    },
    {
      "cell_type": "markdown",
      "source": [
        "# Visualization of Target Trend"
      ],
      "metadata": {
        "id": "UbKfd6GMrtO5"
      }
    },
    {
      "cell_type": "code",
      "source": [
        "sns.lineplot(data=furniture_target, x=\"Month of Order Date\", y=\"Target\", marker='o', label=\"Target Sales\")\n",
        "\n",
        "\n",
        "plt.title(\"Furniture Category: Target Sales % MoM Change\")\n",
        "plt.xticks(rotation=45)\n",
        "plt.ylabel(\"Sales / % Change\")\n",
        "plt.legend()\n",
        "plt.tight_layout()\n",
        "plt.show()"
      ],
      "metadata": {
        "colab": {
          "base_uri": "https://localhost:8080/",
          "height": 390
        },
        "id": "ZKI15Wp4sEcS",
        "outputId": "03a2966b-ca6e-4559-cd97-36b3598264be"
      },
      "execution_count": null,
      "outputs": [
        {
          "output_type": "display_data",
          "data": {
            "text/plain": [
              "<Figure size 1000x600 with 1 Axes>"
            ],
            "image/png": "[encoded data removed]"
          },
          "metadata": {}
        }
      ]
    },
    {
      "cell_type": "markdown",
      "source": [
        "### 📈 **Furniture Target Trend Analysis**\n",
        "* The sales target for **Furniture** category **increased gradually every month** from **April 2018 to March 2019**.\n",
        "* Most of the month-over-month growth was **less than 1%**, showing a **very stable and consistent target strategy**.\n",
        "* A few months showed a **slightly higher increase**, like:\n",
        "\n",
        "  * **July 2018** with a 1.88% increase,\n",
        "  * **November 2018** with a 1.80% increase, and\n",
        "  * **March 2019** with a 1.72% increase.\n",
        "* These small jumps could be linked to **expected festive seasons or end-of-year pushes**.\n",
        "\n",
        "---\n",
        "\n",
        "### 💡 **My Suggestions:**\n",
        "\n",
        "* Since the changes are small, the target planning seems **safe and balanced**, which is good.\n",
        "* But to get better performance, we can consider:\n",
        "\n",
        "  * Adding a **slightly bigger push** during **festive months** like Diwali or New Year.\n",
        "  * Using **historical sales data** to set more dynamic targets instead of flat increases.\n",
        "* Also, if any month underperforms, we can **adjust the next month’s target** based on that — keeping it more realistic."
      ],
      "metadata": {
        "id": "nUQS7ccVTHRX"
      }
    },
    {
      "cell_type": "markdown",
      "source": [
        "# **Q.1 Part:3**"
      ],
      "metadata": {
        "id": "cAdBvnpX61Cy"
      }
    },
    {
      "cell_type": "markdown",
      "source": [
        "# State Data checking"
      ],
      "metadata": {
        "id": "pCQqS6keAMcA"
      }
    },
    {
      "cell_type": "code",
      "source": [
        "print(orders_list.columns)"
      ],
      "metadata": {
        "colab": {
          "base_uri": "https://localhost:8080/"
        },
        "id": "vIaqa00aAU4n",
        "outputId": "f96ac24b-d35f-48ce-defd-30b4e9131cd8"
      },
      "execution_count": null,
      "outputs": [
        {
          "output_type": "stream",
          "name": "stdout",
          "text": [
            "Index(['Order ID', 'Amount', 'Profit', 'Quantity', 'Category', 'Sub-Category'], dtype='object')\n"
          ]
        }
      ]
    },
    {
      "cell_type": "markdown",
      "source": [
        "# Top 5 States Order by Count"
      ],
      "metadata": {
        "id": "eAjxSJ6E7pFs"
      }
    },
    {
      "cell_type": "code",
      "source": [
        "top_states = merge_data['State'].value_counts().head()\n",
        "print(\"Top States by Order Count\")\n",
        "print(top_states)"
      ],
      "metadata": {
        "colab": {
          "base_uri": "https://localhost:8080/"
        },
        "id": "A2ajXNCK69vy",
        "outputId": "af1fa820-e03f-44e6-e897-e6fc6fa54e45"
      },
      "execution_count": null,
      "outputs": [
        {
          "output_type": "stream",
          "name": "stdout",
          "text": [
            "Top States by Order Count\n",
            "State\n",
            "Madhya Pradesh    340\n",
            "Maharashtra       290\n",
            "Gujarat            87\n",
            "Rajasthan          74\n",
            "Delhi              74\n",
            "Name: count, dtype: int64\n"
          ]
        }
      ]
    },
    {
      "cell_type": "code",
      "source": [
        "# filtering top 5 States\n",
        "top_states_list = top_states.index.tolist()\n",
        "top_states_data = merge_data[merge_data['State'].isin(top_states_list)]"
      ],
      "metadata": {
        "id": "HFKYyYWw9JWx"
      },
      "execution_count": null,
      "outputs": []
    },
    {
      "cell_type": "markdown",
      "source": [
        "# Calculate Sales and Average Profit"
      ],
      "metadata": {
        "id": "kjfU3uoh_rXo"
      }
    },
    {
      "cell_type": "code",
      "source": [
        "state_analysis = top_states_data.groupby(\"State\").agg({\n",
        "    \"Amount\" : \"sum\",\n",
        "    \"Profit\" : [\"mean\", \"sum\"],\n",
        "    \"Order ID\" : \"count\"\n",
        "}).reset_index()\n",
        "\n",
        "state_analysis.columns= ['State','Total Sales','Avg Profit',\"Total Profit\",'Order Count']\n",
        "print(\"\\nState wise Sales and Profit Analysis\")\n",
        "print(state_analysis.sort_values(by=\"Total Sales\", ascending=False))"
      ],
      "metadata": {
        "colab": {
          "base_uri": "https://localhost:8080/"
        },
        "id": "Ffk8C-j8_0F4",
        "outputId": "949822e3-313d-4a1b-ed15-850d9dca639f"
      },
      "execution_count": null,
      "outputs": [
        {
          "output_type": "stream",
          "name": "stdout",
          "text": [
            "\n",
            "State wise Sales and Profit Analysis\n",
            "            State  Total Sales  Avg Profit  Total Profit  Order Count\n",
            "2  Madhya Pradesh     105140.0   16.326471        5551.0          340\n",
            "3     Maharashtra      95348.0   21.296552        6176.0          290\n",
            "0           Delhi      22531.0   40.364865        2987.0           74\n",
            "4       Rajasthan      21149.0   16.986486        1257.0           74\n",
            "1         Gujarat      21058.0    5.344828         465.0           87\n"
          ]
        }
      ]
    },
    {
      "cell_type": "code",
      "source": [
        "print(state_analysis)"
      ],
      "metadata": {
        "colab": {
          "base_uri": "https://localhost:8080/"
        },
        "id": "aaH6I98NCprf",
        "outputId": "9a96c806-6728-4f7c-b4ee-516c44744924"
      },
      "execution_count": null,
      "outputs": [
        {
          "output_type": "stream",
          "name": "stdout",
          "text": [
            "            State  Total Sales  Avg Profit  Total Profit  Order Count\n",
            "0           Delhi      22531.0   40.364865        2987.0           74\n",
            "1         Gujarat      21058.0    5.344828         465.0           87\n",
            "2  Madhya Pradesh     105140.0   16.326471        5551.0          340\n",
            "3     Maharashtra      95348.0   21.296552        6176.0          290\n",
            "4       Rajasthan      21149.0   16.986486        1257.0           74\n"
          ]
        }
      ]
    },
    {
      "cell_type": "markdown",
      "source": [
        "# Visualization for Calculate Sales and Average Profit"
      ],
      "metadata": {
        "id": "c-kYQU6FO_gx"
      }
    },
    {
      "cell_type": "code",
      "source": [
        "sns.barplot(data=state_analysis.sort_values(by=\"Total Sales\", ascending=False),\n",
        "            x=\"Total Sales\", y=\"State\", hue=\"State\", palette=\"coolwarm\")\n",
        "plt.title(\"Top 5 State by Toatal Sales\")\n",
        "plt.show()\n",
        "\n",
        "\n",
        "sns.barplot(data=state_analysis.sort_values(by=\"Avg Profit\", ascending=False),\n",
        "            x=\"Avg Profit\", y=\"State\", hue=\"State\",palette=\"mako\" )\n",
        "plt.title(\"Top 5 State by Average Profit\")\n",
        "plt.show()"
      ],
      "metadata": {
        "colab": {
          "base_uri": "https://localhost:8080/",
          "height": 746
        },
        "id": "y1dHouZyPQvQ",
        "outputId": "30074906-afd7-4603-cfaa-f3160a4085f1"
      },
      "execution_count": null,
      "outputs": [
        {
          "output_type": "display_data",
          "data": {
            "text/plain": [
              "<Figure size 1000x600 with 1 Axes>"
            ],
            "image/png": "[encoded data removed]"
          },
          "metadata": {}
        },
        {
          "output_type": "display_data",
          "data": {
            "text/plain": [
              "<Figure size 1000x600 with 1 Axes>"
            ],
            "image/png": "[encoded data removed]"
          },
          "metadata": {}
        }
      ]
    },
    {
      "cell_type": "markdown",
      "source": [
        "### 🌍 **State-wise Sales & Profit Insights**\n",
        "\n",
        "* **Madhya Pradesh** had the **highest number of orders (340)** and also topped in **total sales** at ₹1,05,140. Its **average profit per order was ₹16.32**, which is decent. This state performs strongly in both volume and revenue.\n",
        "\n",
        "* **Maharashtra** followed with **290 orders** and ₹95,348 in sales. Interestingly, it had **higher average profit per order (₹21.29)** than Madhya Pradesh. This shows **good customer value** and solid pricing or product mix.\n",
        "\n",
        "* **Delhi** had only **74 orders**, but its **average profit per order was the highest at ₹40.36**. This means even though volume is low, it's a **high-margin region** — definitely a place to focus on and scale.\n",
        "\n",
        "* **Rajasthan** and **Gujarat** had similar order counts (74 and 87 respectively), but very different results:\n",
        "\n",
        "  * Rajasthan had average profit per order of ₹16.98,\n",
        "  * Gujarat was the **lowest** at just ₹5.34 per order — which shows poor profitability despite decent order numbers.\n",
        "\n",
        "---\n",
        "\n",
        "### 💡 **My Suggestions:**\n",
        "\n",
        "* We should focus more on **Delhi**, as it’s giving the **best profit per order** — maybe try targeted ads or exclusive offers to increase order count there.\n",
        "* **Madhya Pradesh and Maharashtra** are strong markets — maintain engagement and expand product variety.\n",
        "* **Gujarat needs improvement** — we can explore if pricing is too low or if high return/cancellation rates are cutting profits.\n",
        "* Rajasthan is average, but still has potential with a bit of marketing or product mix optimization.\n"
      ],
      "metadata": {
        "id": "VF3ApiGpUrFV"
      }
    },
    {
      "cell_type": "markdown",
      "source": [
        "# **Q.2**"
      ],
      "metadata": {
        "id": "wwtm7EgXb7A0"
      }
    },
    {
      "cell_type": "markdown",
      "source": [
        "# 5 Things Jar App Does Well"
      ],
      "metadata": {
        "id": "MyI47EMjHmel"
      }
    },
    {
      "cell_type": "markdown",
      "source": [
        "**1. Auto-Saving That Feels Effortless**\n",
        "\n",
        "  Jar smartly rounds up and saves small amounts from my daily transactions without me even noticing—super convenient!\n",
        "\n",
        "**2.Hassle-Free Sign-Up Process**\n",
        "\n",
        "\n",
        "   Getting started is really easy—no lengthy forms or confusing steps, which is perfect if you’re new to saving or investing.\n",
        "\n",
        "**3. Clear & Trustworthy Gold Investment**\n",
        "\n",
        "The app shows live gold prices and lets me invest small amounts, which makes gold investing feel secure and easy to understand.\n",
        "\n",
        "**4. Neat and Modern Design**\n",
        "\n",
        "The interface is clean, minimal, and user-friendly—great for someone like me who appreciates simplicity.\n",
        "\n",
        "**5. Fun Streaks That Keep Me Motivated**\n",
        "\n",
        "The daily saving streak feature adds a fun, game-like twist that keeps me consistent and motivated to save every day.\n",
        "\n"
      ],
      "metadata": {
        "id": "RxmDovQbcU6K"
      }
    },
    {
      "cell_type": "markdown",
      "source": [
        "# 5 Things That Could Be Improved"
      ],
      "metadata": {
        "id": "H5o9IxwGG8Pf"
      }
    },
    {
      "cell_type": "markdown",
      "source": [
        "**1. Limited to Just Digital Gold**\n",
        "\n",
        "Right now, the app only supports digital gold. It would be great to see options like mutual funds or SIPs to give users more investment choices.\n",
        "\n",
        "**2. No Guidance for Beginners**\n",
        "\n",
        "There’s not much content for people who are just starting to manage their money. Some simple tips or educational content would really help.\n",
        "\n",
        "**3. Rewards Feel a Bit Flat**\n",
        "\n",
        "Even if I save regularly, the rewards don’t feel exciting or motivating enough. A stronger rewards system could boost engagement.\n",
        "\n",
        "**4. No Option for Group or Family Saving**\n",
        "\n",
        "The app lacks features for shared savings goals. Adding the ability to save together with friends or family would be a nice touch.\n",
        "\n",
        "**5. Support Isn’t Always There When Needed**\n",
        "\n",
        "Customer service isn’t easy to reach. Having an in-app chat or 24/7 support would really improve the user experience.\n",
        "\n"
      ],
      "metadata": {
        "id": "aVqZwF-VfeUZ"
      }
    },
    {
      "cell_type": "markdown",
      "source": [
        "# **Q.3**"
      ],
      "metadata": {
        "id": "grY-Q6lEIc8j"
      }
    },
    {
      "cell_type": "markdown",
      "source": [
        "# Future Business Opportunities for Jar"
      ],
      "metadata": {
        "id": "HpWqGuQ0JG1r"
      }
    },
    {
      "cell_type": "markdown",
      "source": [
        "**1. Recurring Mutual Fund SIPs**\n",
        "\n",
        "\n",
        "\n",
        "*   Tap into retail investing.\n",
        "*   Keep automation theme: auto-invest from small daily spends.\n",
        "\n",
        "\n",
        "\n",
        "\n",
        "\n",
        "**2. Micro-loans for Emergency Needs**\n",
        "\n",
        "*        Instant small loans backed by gold savings as       collateral.\n",
        "\n",
        "*    Helps user retention + trust.\n",
        "\n",
        "**3. Automated Bill Payments**\n",
        "\n",
        "*  Save for bills daily and pay via app.\n",
        "\n",
        "*  Reduces last-minute stress.\n",
        "\n",
        "**4. Personal Finance Dashboard**\n",
        "\n",
        "* Auto-track spends, budgets, and saving patterns.\n",
        "\n",
        "* Great for financial literacy.\n",
        "\n",
        "**4. Family or Group Goals**\n",
        "\n",
        "* Save with friends/family (like wedding, travel goals).\n",
        "\n",
        "* Encourages referrals and engagement."
      ],
      "metadata": {
        "id": "fmF9_uulI7AP"
      }
    },
    {
      "cell_type": "markdown",
      "source": [
        "# How to Leverage Strengths"
      ],
      "metadata": {
        "id": "8pnmTml6MvKf"
      }
    },
    {
      "cell_type": "markdown",
      "source": [
        "| Jar Strength               | Strategy                                              |\n",
        "| -------------------------- | ----------------------------------------------------- |\n",
        "| **Automation**             | Extend it to SIPs, bill saving, recurring investments |\n",
        "| **User-friendly UI**       | Keep it simple even when adding features              |\n",
        "| **Trust/Credibility**      | Build on gold success to offer more regulated assets  |\n",
        "| **Daily Habit-Forming UX** | Use gamification for new features (e.g., SIP streaks) |\n"
      ],
      "metadata": {
        "id": "kKgTPG9HM7wD"
      }
    }
  ]
}